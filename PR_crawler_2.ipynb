{
 "cells": [
  {
   "cell_type": "markdown",
   "id": "4401afc6-1b1b-4f37-ab77-9d9efeaffe34",
   "metadata": {},
   "source": [
    "# **crawler 2**"
   ]
  },
  {
   "cell_type": "markdown",
   "id": "55bd5cb8-9cbe-4b77-9109-80e9b91b15e9",
   "metadata": {},
   "source": [
    "* 07_pr_find_all"
   ]
  },
  {
   "cell_type": "code",
   "execution_count": 1,
   "id": "c4cd9cfc-8bdc-4bb9-accb-c4c22d43e7cd",
   "metadata": {},
   "outputs": [],
   "source": [
    "from bs4 import BeautifulSoup"
   ]
  },
  {
   "cell_type": "code",
   "execution_count": 2,
   "id": "36d2fa0d-0702-412c-ba9e-58420acb89ca",
   "metadata": {},
   "outputs": [
    {
     "name": "stdout",
     "output_type": "stream",
     "text": [
      "\n",
      "<html>\n",
      "<table>\n",
      "<tr>\n",
      "<td class=\"first\">100</td>\n",
      "<td>200</td>\n",
      "</tr>\n",
      "<tr>\n",
      "<td>300</td>\n",
      "<td>400</td>\n",
      "</tr>\n",
      "</table>\n",
      "</html>\n",
      "\n"
     ]
    }
   ],
   "source": [
    "html = \"\"\"\n",
    "     <html>\n",
    "        <table>\n",
    "          <tr>\n",
    "              <td class='first'>100</td>\n",
    "              <td>200</td>\n",
    "          </tr>\n",
    "          <tr>\n",
    "              <td>300</td>\n",
    "              <td>400</td>\n",
    "          </tr>\n",
    "        </table>\n",
    "     </html>\n",
    "\"\"\"\n",
    "\n",
    "bs_obj = BeautifulSoup(html, \"html.parser\")\n",
    "print(bs_obj)"
   ]
  },
  {
   "cell_type": "code",
   "execution_count": 4,
   "id": "dae11b51-f572-4348-a48b-86657bdab26b",
   "metadata": {},
   "outputs": [
    {
     "name": "stdout",
     "output_type": "stream",
     "text": [
      "100\n"
     ]
    }
   ],
   "source": [
    "# 100\n",
    "td_first = bs_obj.find(\"td\", {\"class\":\"first\"})\n",
    "print(td_first.text)"
   ]
  },
  {
   "cell_type": "code",
   "execution_count": 7,
   "id": "adedee13-e12b-4238-acc0-97ab992672ca",
   "metadata": {},
   "outputs": [
    {
     "name": "stdout",
     "output_type": "stream",
     "text": [
      "<td class=\"first\">100</td>\n"
     ]
    }
   ],
   "source": [
    "# 200\n",
    "td_second = bs_obj.find(\"td\")\n",
    "print(td_second)"
   ]
  },
  {
   "cell_type": "code",
   "execution_count": 13,
   "id": "6b92887c-febd-4ac8-8e17-dd2563166dc5",
   "metadata": {},
   "outputs": [
    {
     "name": "stdout",
     "output_type": "stream",
     "text": [
      "[<td class=\"first\">100</td>, <td>200</td>]\n",
      "<td class=\"first\">100</td>\n",
      "<td>200</td>\n"
     ]
    }
   ],
   "source": [
    "table = bs_obj.find(\"table\")\n",
    "tr = table.find(\"tr\")\n",
    "tds = tr.findAll(\"td\") # list [ , , ]\n",
    "print(tds)\n",
    "print(tds[0])\n",
    "print(tds[1])"
   ]
  },
  {
   "cell_type": "markdown",
   "id": "804f1667-af7e-46f7-8fe8-57126de7dd42",
   "metadata": {},
   "source": [
    "* 08_pr_find_all_300"
   ]
  },
  {
   "cell_type": "code",
   "execution_count": 28,
   "id": "d61bb45c-69b5-4bb3-90f6-b00f8e50a1d9",
   "metadata": {},
   "outputs": [
    {
     "name": "stdout",
     "output_type": "stream",
     "text": [
      "[<tr>\n",
      "<td class=\"first\">100</td>\n",
      "<td>200</td>\n",
      "</tr>, <tr>\n",
      "<td>300</td>\n",
      "<td>400</td>\n",
      "</tr>]\n",
      "<tr>\n",
      "<td class=\"first\">100</td>\n",
      "<td>200</td>\n",
      "</tr>\n",
      "<tr>\n",
      "<td>300</td>\n",
      "<td>400</td>\n",
      "</tr>\n"
     ]
    }
   ],
   "source": [
    "# 300\n",
    "trs = table.findAll(\"tr\")\n",
    "print(trs)\n",
    "print(trs[0])\n",
    "print(trs[1])"
   ]
  },
  {
   "cell_type": "code",
   "execution_count": 22,
   "id": "f3e92fa4-ad00-4c23-954f-b068cd9c8f25",
   "metadata": {},
   "outputs": [
    {
     "name": "stdout",
     "output_type": "stream",
     "text": [
      "300\n"
     ]
    }
   ],
   "source": [
    "trs = table.findAll(\"tr\")\n",
    "second_tr = trs[1]\n",
    "td_300 = second_tr.find(\"td\")\n",
    "print(td_300.text)"
   ]
  },
  {
   "cell_type": "code",
   "execution_count": 25,
   "id": "a9cec039-29bd-4ec1-83aa-48745c879ce0",
   "metadata": {},
   "outputs": [
    {
     "name": "stdout",
     "output_type": "stream",
     "text": [
      "[<td>300</td>, <td>400</td>]\n",
      "400\n"
     ]
    }
   ],
   "source": [
    "# 400\n",
    "second_tr_tds = second_tr.findAll(\"td\")\n",
    "td_400 = second_tr_tds[1]\n",
    "print(second_tr_tds)\n",
    "print(td_400.text)"
   ]
  },
  {
   "cell_type": "code",
   "execution_count": 26,
   "id": "f7dc82fe-a959-4142-afe1-b842204d8e13",
   "metadata": {},
   "outputs": [
    {
     "name": "stdout",
     "output_type": "stream",
     "text": [
      "100\n",
      "200\n",
      "300\n",
      "400\n"
     ]
    }
   ],
   "source": [
    "# final output\n",
    "\n",
    "# 100\n",
    "td_first = bs_obj.find(\"td\", {\"class\":\"first\"})\n",
    "print(td_first.text)\n",
    "\n",
    "# 200\n",
    "table = bs_obj.find(\"table\")\n",
    "tr = table.find(\"tr\")\n",
    "tds = tr.findAll(\"td\")\n",
    "print(tds[1].text)\n",
    "\n",
    "trs = table.findAll(\"tr\")\n",
    "second_tr = trs[1]\n",
    "\n",
    "# 300\n",
    "td_300 = second_tr.find(\"td\")\n",
    "print(td_300.text)\n",
    "\n",
    "# 400\n",
    "second_tr_tds = second_tr.findAll(\"td\")\n",
    "td_400 = second_tr_tds[1]\n",
    "print(td_400.text)"
   ]
  },
  {
   "cell_type": "markdown",
   "id": "b67e5bb4",
   "metadata": {},
   "source": [
    "## **references**\n",
    "\n",
    "https://www.youtube.com/watch?v=4z8UkZbpHuc&list=PLAdQRRy4vtQRzdg7D9n1rkDp9DIeWpBQ9&index=24"
   ]
  }
 ],
 "metadata": {
  "kernelspec": {
   "display_name": "Python 3",
   "language": "python",
   "name": "python3"
  },
  "language_info": {
   "codemirror_mode": {
    "name": "ipython",
    "version": 3
   },
   "file_extension": ".py",
   "mimetype": "text/x-python",
   "name": "python",
   "nbconvert_exporter": "python",
   "pygments_lexer": "ipython3",
   "version": "3.8.8"
  }
 },
 "nbformat": 4,
 "nbformat_minor": 5
}
