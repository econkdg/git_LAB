{
  "nbformat": 4,
  "nbformat_minor": 0,
  "metadata": {
    "colab": {
      "name": "LAB_selenium.ipynb",
      "private_outputs": true,
      "provenance": [],
      "collapsed_sections": [],
      "toc_visible": true
    },
    "kernelspec": {
      "name": "python3",
      "display_name": "Python 3"
    },
    "language_info": {
      "name": "python"
    }
  },
  "cells": [
    {
      "cell_type": "markdown",
      "source": [
        "# **LAB: selenium**"
      ],
      "metadata": {
        "id": "8lWrQB6JHcx3"
      }
    },
    {
      "cell_type": "markdown",
      "source": [
        "## **google image scraping**"
      ],
      "metadata": {
        "id": "6-BqGF7lya21"
      }
    },
    {
      "cell_type": "markdown",
      "source": [
        "Dong Gyun Ko <br/>\n",
        "last Updated: august 15, 2022 <br/>"
      ],
      "metadata": {
        "id": "1CEL44PGHk4Q"
      }
    },
    {
      "cell_type": "markdown",
      "source": [
        "## **1. install selenium and webdriver**"
      ],
      "metadata": {
        "id": "Un2e8T3PHoEO"
      }
    },
    {
      "cell_type": "code",
      "source": [
        "!pip install Selenium\n",
        "!apt-get update\n",
        "!apt install chromium-chromedriver\n",
        "!cp /usr/lib/chromium-browser/chromedriver /usr/bin"
      ],
      "metadata": {
        "id": "MWyZs303L9br"
      },
      "execution_count": null,
      "outputs": []
    },
    {
      "cell_type": "code",
      "source": [
        "import sys\n",
        "sys.path.insert(0, '/usr/lib/chromium-browser/chromedriver')\n",
        "\n",
        "from selenium import webdriver\n",
        "chrome_options = webdriver.ChromeOptions()\n",
        "chrome_options.add_argument('--headless')\n",
        "chrome_options.add_argument('--no-sandbox')\n",
        "chrome_options.add_argument('--disable-dev-shm-usage')"
      ],
      "metadata": {
        "id": "hUm5uK7sH-vX"
      },
      "execution_count": null,
      "outputs": []
    },
    {
      "cell_type": "code",
      "source": [
        "import os\n",
        "import time\n",
        "import socket\n",
        "\n",
        "from urllib.request import urlretrieve\n",
        "from urllib.error import HTTPError, URLError\n",
        "from selenium.common.exceptions import ElementClickInterceptedException, NoSuchElementException, ElementNotInteractableException\n",
        "from PIL import Image"
      ],
      "metadata": {
        "id": "kQOQURAcKRcF"
      },
      "execution_count": null,
      "outputs": []
    },
    {
      "cell_type": "markdown",
      "source": [
        "## **2. scraping**"
      ],
      "metadata": {
        "id": "SrvR8L8ae3Mx"
      }
    },
    {
      "cell_type": "markdown",
      "source": [
        "### **2.1. scroll_down(): function rolling down scroll**"
      ],
      "metadata": {
        "id": "XAmIaly_PTH6"
      }
    },
    {
      "cell_type": "code",
      "source": [
        "def scroll_down():\n",
        "\n",
        "    scroll_count = 0\n",
        "    print('[scroll_down(): start scroll down]')\n",
        "\n",
        "    last_height = wd.execute_script('return document.body.scrollHeight')\n",
        "    after_click=False\n",
        "\n",
        "    while True:\n",
        "\n",
        "        print(f'[scroll down: {scroll_count}]')\n",
        "        wd.execute_script('window.scrollTo(0, document.body.scrollHeight);')\n",
        "        scroll_count += 1\n",
        "        time.sleep(1)\n",
        "\n",
        "        new_height = wd.execute_script('return document.body.scrollHeight')\n",
        "\n",
        "        if last_height == new_height:\n",
        "            if after_click is True:\n",
        "                break\n",
        "            else:\n",
        "                try:\n",
        "                    more_button = wd.find_element('xpath', '//*[@id=\"islmp\"]/div/div/div/div[1]/div[2]/div[2]/input')\n",
        "                    if more_button.is_displayed():\n",
        "                       more_button.click()\n",
        "                       after_click = True\n",
        "                except NoSuchElementException as e:\n",
        "                    print(e)\n",
        "                    break\n",
        "    \n",
        "    last_height = new_height"
      ],
      "metadata": {
        "id": "-fO3HahKPTu5"
      },
      "execution_count": null,
      "outputs": []
    },
    {
      "cell_type": "markdown",
      "source": [
        "### **2.2. click_and_save(): select the thumb nail image and save the raw image**"
      ],
      "metadata": {
        "id": "VRRU58u6TxvG"
      }
    },
    {
      "cell_type": "code",
      "source": [
        "def click_and_save(dir_name, index, img, img_list_length):\n",
        "    global scraped_count\n",
        "\n",
        "    try:\n",
        "        img.click()\n",
        "        wd.implicitly_wait(3)\n",
        "        src = wd.find_element('xpath', '//*[@id=\"Sva75c\"]/div/div/div[3]/div[2]/c-wiz/div/div[1]/div[1]/div[3]/div/a/img').get_attribute('src')\n",
        "        if src.split('.')[-1] == 'png':\n",
        "           urlretrieve(src, dir_name + '/' + str(scraped_count + 1) + '.png')\n",
        "           print(f' {index+1}/{img_list_length} save png image')\n",
        "        else:\n",
        "           urlretrieve(src, dir_name + '/' + str(scraped_count + 1) + '.jpg')\n",
        "           print(f' {index+1}/{img_list_length} save jpg image')\n",
        "\n",
        "        scraped_count += 1\n",
        "    \n",
        "    except HTTPError as e:\n",
        "        print(e)\n",
        "        pass\n",
        "    except ElementClickInterceptedException as e:\n",
        "        print(e)\n",
        "        pass"
      ],
      "metadata": {
        "id": "00zKRYjZTyBw"
      },
      "execution_count": null,
      "outputs": []
    },
    {
      "cell_type": "markdown",
      "source": [
        "### **2.3. scraping(): function scraping google image**"
      ],
      "metadata": {
        "id": "6aImMaw0OWR1"
      }
    },
    {
      "cell_type": "code",
      "source": [
        "def scraping(dir_name, query):\n",
        "    global scraped_count\n",
        "\n",
        "    url = f'https://www.google.com/search?q={query}&tbm=isch&tbs=isz:l&rlz=1C1NDCM_koKR833KR833&hl=ko&sa=X&ved=0CAIQpwVqFwoTCLipiei2y_kCFQAAAAAdAAAAABAC&biw=1903&bih=937#imgrc=HD39zA1_6EYFyM'\n",
        "    print(url)\n",
        "\n",
        "    wd.get(url)\n",
        "    wd.maximize_window()\n",
        "\n",
        "    scroll_down()\n",
        "\n",
        "    div = wd.find_element('xpath', '//*[@id=\"islrg\"]/div[1]')\n",
        "    print(div)\n",
        "\n",
        "    img_list = div.find_element('cssSelector', 'div.bRMDJf.islir > img')\n",
        "    print(img_list)\n",
        "\n",
        "    for index, img in enumerate(img_list):\n",
        "        try:\n",
        "            click_and_save(dir_name, index, img, len(img_list))\n",
        "        except ElementClickInterceptedException as e:\n",
        "            print(e)\n",
        "            wd.execute_script('window.scrollTo(0, window.scrollY + 100)')\n",
        "            time.sleep(1)\n",
        "            click_and_save(dir_name, index, img, len(img_list))\n",
        "        except NoSuchElementException as e:\n",
        "            print(e)\n",
        "            wd.execute_script('window.scrollTo(0, window.scrollY + 100)')\n",
        "            time.sleep(1)\n",
        "            click_and_save(dir_name, index, img, len(img_list))\n",
        "        except ConnectionResetError as e:\n",
        "            print(e)\n",
        "            pass\n",
        "        except URLError as e:\n",
        "            print(e)\n",
        "            pass\n",
        "        except socket.timeout as e:\n",
        "            print(e)\n",
        "            pass\n",
        "        except socket.gaierror as e:\n",
        "            print(e)\n",
        "            pass\n",
        "        except ElementNotInteractableException as e:\n",
        "            print(e)\n",
        "            break\n",
        "    try:\n",
        "        print('[scraping end (success rate: %2.f%%)]' % (scraped_count / len(img_list) * 100.0))\n",
        "    except ZeroDivisionError as e:\n",
        "        print(e)\n",
        "    \n",
        "    wd.quit()"
      ],
      "metadata": {
        "id": "muPPmdd3OWnY"
      },
      "execution_count": null,
      "outputs": []
    },
    {
      "cell_type": "markdown",
      "source": [
        "### **2.4. filter_and_remove(): remove low-quality image**"
      ],
      "metadata": {
        "id": "v71mWnNnYh-k"
      }
    },
    {
      "cell_type": "code",
      "source": [
        "def filter_and_remove(dir_name, query, filter_size):\n",
        "\n",
        "    filtered_count = 0\n",
        "\n",
        "    for index, file_name in enumerate(os.listdir(dir_name)):\n",
        "        try:\n",
        "            file_path = os.path.join(dir_name, file_name)\n",
        "            img = Image.open(file_path)\n",
        "\n",
        "            if img.width < filter_size and img.height < filter_size:\n",
        "                img.close()\n",
        "                os.remove(file_path)\n",
        "                print(f'{index} remove image')\n",
        "                filtered_count += 1\n",
        "        \n",
        "        except OSError as e:\n",
        "            print(e)\n",
        "            os.remove(file_path)\n",
        "            filtered_count += 1\n",
        "    \n",
        "    print(f'[number of removed images: {filtered_count}/{scraped_count}]')"
      ],
      "metadata": {
        "id": "wzI2XAhnYie8"
      },
      "execution_count": null,
      "outputs": []
    },
    {
      "cell_type": "markdown",
      "source": [
        "### **2.5. execute scaping**"
      ],
      "metadata": {
        "id": "7sA2sQOQNTVa"
      }
    },
    {
      "cell_type": "code",
      "source": [
        "socket.setdefaulttimeout(30)\n",
        "\n",
        "wd = webdriver.Chrome('chromedriver', options=chrome_options)\n",
        "scraped_count = 0\n",
        "\n",
        "path ='./'\n",
        "query = input('search word: ')\n",
        "\n",
        "dir_name = path + query\n",
        "os.makedirs(dir_name)\n",
        "print(f'[{dir_name} generate directory]')\n",
        "\n",
        "scraping(dir_name, query)\n",
        "filter_and_remove(dir_name, query, 400)"
      ],
      "metadata": {
        "id": "ID1m6fYZNFRL"
      },
      "execution_count": null,
      "outputs": []
    },
    {
      "cell_type": "code",
      "source": [
        "!ls"
      ],
      "metadata": {
        "id": "JKC9jsRpaT1i"
      },
      "execution_count": null,
      "outputs": []
    },
    {
      "cell_type": "code",
      "source": [
        "!rmdir forest"
      ],
      "metadata": {
        "id": "SKitA9xdaVLa"
      },
      "execution_count": null,
      "outputs": []
    },
    {
      "cell_type": "code",
      "source": [
        "from google.colab import files\n",
        "files.download('./forest/10.jpg')"
      ],
      "metadata": {
        "id": "Boybr0OYbUT9"
      },
      "execution_count": null,
      "outputs": []
    },
    {
      "cell_type": "markdown",
      "source": [
        "## **3. references**"
      ],
      "metadata": {
        "id": "tjV79H0hfIJ6"
      }
    },
    {
      "cell_type": "markdown",
      "source": [
        "* https://www.youtube.com/watch?v=pQ7dOg9c4NI <br/>"
      ],
      "metadata": {
        "id": "rmRCc_U5x_k1"
      }
    }
  ]
}