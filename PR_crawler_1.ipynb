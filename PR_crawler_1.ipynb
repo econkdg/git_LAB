{
 "cells": [
  {
   "cell_type": "markdown",
   "id": "1d761944-18c6-4c54-9356-6e7e2da45d02",
   "metadata": {},
   "source": [
    "# **Crawler 1**"
   ]
  },
  {
   "cell_type": "markdown",
   "id": "31ca6cb5-366b-4cfa-9c15-69f7d5c6cdff",
   "metadata": {},
   "source": [
    "* 01_call_samsung"
   ]
  },
  {
   "cell_type": "code",
   "execution_count": 15,
   "id": "28069260-4778-41af-a6ad-1ce42acf7776",
   "metadata": {},
   "outputs": [],
   "source": [
    "import requests\n",
    "from bs4 import BeautifulSoup"
   ]
  },
  {
   "cell_type": "code",
   "execution_count": 39,
   "id": "7f1cefad-88f9-4878-a036-f6531a8650ab",
   "metadata": {},
   "outputs": [],
   "source": [
    "def get_bs_obj(company_code):\n",
    "    \n",
    "    url = \"https://finance.naver.com/item/main.nhn?code=\" + company_code\n",
    "    result = requests.get(url)\n",
    "    bs_obj = BeautifulSoup(result.content, \"html.parser\")\n",
    "\n",
    "    return bs_obj\n",
    "\n",
    "bs_obj = get_bs_obj(\"005930\")\n",
    "# print(bs_obj)"
   ]
  },
  {
   "cell_type": "markdown",
   "id": "4fbe58e7-893f-44f1-9a2a-2155baf275b1",
   "metadata": {},
   "source": [
    "* 02_get_price"
   ]
  },
  {
   "cell_type": "code",
   "execution_count": 40,
   "id": "f3784648-4593-4c9a-8a4c-39ae5717a380",
   "metadata": {},
   "outputs": [
    {
     "name": "stdout",
     "output_type": "stream",
     "text": [
      "<p class=\"no_today\">\n",
      "<em class=\"no_down\">\n",
      "<span class=\"blind\">72,700</span>\n",
      "<span class=\"no7\">7</span><span class=\"no2\">2</span><span class=\"shim\">,</span><span class=\"no7\">7</span><span class=\"no0\">0</span><span class=\"no0\">0</span>\n",
      "</em>\n",
      "</p>\n"
     ]
    }
   ],
   "source": [
    "no_today = bs_obj.find(\"p\", {\"class\":\"no_today\"})\n",
    "print(no_today)"
   ]
  },
  {
   "cell_type": "code",
   "execution_count": 41,
   "id": "c5f834a0-0788-4256-a915-4bd099ac5ba7",
   "metadata": {},
   "outputs": [
    {
     "name": "stdout",
     "output_type": "stream",
     "text": [
      "72,700\n"
     ]
    }
   ],
   "source": [
    "blind_now = no_today.find(\"span\", {\"class\":\"blind\"})\n",
    "print(blind_now.text)"
   ]
  },
  {
   "cell_type": "markdown",
   "id": "de27615d-219e-4e6e-8302-2a4704907ef6",
   "metadata": {},
   "source": [
    "* 03_get_price_function"
   ]
  },
  {
   "cell_type": "code",
   "execution_count": 42,
   "id": "4d13acb1-823c-4b34-ab65-3333ea085a0e",
   "metadata": {},
   "outputs": [
    {
     "name": "stdout",
     "output_type": "stream",
     "text": [
      "72,700\n"
     ]
    }
   ],
   "source": [
    "# get_price_function: accept bs_obj, return\n",
    "\n",
    "def get_price(bs_obj):\n",
    "    \n",
    "    no_today = bs_obj.find(\"p\", {\"class\":\"no_today\"})\n",
    "    blind_now = no_today.find(\"span\", {\"class\":\"blind\"})\n",
    "    return blind_now.text\n",
    "\n",
    "bs_obj = get_bs_obj(\"005930\")\n",
    "price = get_price(bs_obj)\n",
    "print(price)"
   ]
  },
  {
   "cell_type": "markdown",
   "id": "6781b66c-5b20-43c6-baf1-4c1f73090890",
   "metadata": {},
   "source": [
    "* 04_get_price_function_n"
   ]
  },
  {
   "cell_type": "code",
   "execution_count": 48,
   "id": "796e44ab-eae3-4da0-8dd2-f6cf9f70d248",
   "metadata": {},
   "outputs": [
    {
     "name": "stdout",
     "output_type": "stream",
     "text": [
      "72,700\n",
      "102,500\n",
      "11,400\n"
     ]
    }
   ],
   "source": [
    "def get_bs_obj(company_code):\n",
    "\n",
    "    url = \"https://finance.naver.com/item/main.nhn?code=\" + company_code\n",
    "    result = requests.get(url)\n",
    "    bs_obj = BeautifulSoup(result.content, \"html.parser\")\n",
    "\n",
    "    return bs_obj\n",
    "\n",
    "def get_price(company_code):\n",
    "\n",
    "    bs_obj = get_bs_obj(company_code)\n",
    "    no_today = bs_obj.find(\"p\", {\"class\":\"no_today\"})\n",
    "    blind_now = no_today.find(\"span\", {\"class\":\"blind\"})\n",
    "    return blind_now.text\n",
    "\n",
    "# samsung 005930\n",
    "price_samsung = get_price(\"005930\")\n",
    "print(price_samsung)\n",
    "\n",
    "# SK_hynix 000660\n",
    "price_hynix = get_price(\"000660\")\n",
    "print(price_hynix)\n",
    "\n",
    "# samyoung 005680\n",
    "price_samyoung = get_price(\"005680\")\n",
    "print(price_samyoung)"
   ]
  },
  {
   "cell_type": "code",
   "execution_count": 49,
   "id": "32fe7fad-ba08-4922-85bf-c53c30d16a35",
   "metadata": {},
   "outputs": [
    {
     "name": "stdout",
     "output_type": "stream",
     "text": [
      "72,700\n",
      "102,500\n",
      "11,400\n"
     ]
    }
   ],
   "source": [
    "print(get_price(\"005930\"))\n",
    "print(get_price(\"000660\"))\n",
    "print(get_price(\"005680\"))"
   ]
  },
  {
   "cell_type": "markdown",
   "id": "14c92d03-440b-4f8b-8b33-4bce7c520bb0",
   "metadata": {},
   "source": [
    "* 05_get_price_function_n_for"
   ]
  },
  {
   "cell_type": "code",
   "execution_count": 51,
   "id": "74cf5b7e-28f5-4158-bd54-2479cc697f82",
   "metadata": {},
   "outputs": [
    {
     "name": "stdout",
     "output_type": "stream",
     "text": [
      "72,700\n",
      "102,500\n",
      "11,400\n"
     ]
    }
   ],
   "source": [
    "company_codes = [\"005930\", \"000660\", \"005680\"]\n",
    "\n",
    "for item in company_codes:\n",
    "    \n",
    "    price = get_price(item)\n",
    "    print(price)"
   ]
  },
  {
   "cell_type": "markdown",
   "id": "67374a43-6158-4fac-94d3-9601c793c6cc",
   "metadata": {},
   "source": [
    "* 06_get_candle_chart_data"
   ]
  },
  {
   "cell_type": "code",
   "execution_count": 61,
   "id": "267fec78-d6f8-4e69-b7e3-aa8a0fb50005",
   "metadata": {},
   "outputs": [],
   "source": [
    "def get_candle_chart_data(company_code):\n",
    "    \n",
    "    bs_obj = get_bs_obj(company_code)\n",
    "    \n",
    "    td_first = bs_obj.find(\"td\", {\"class\":\"first\"})\n",
    "    blind = td_first.find(\"span\", {\"class\":\"blind\"})\n",
    "    \n",
    "    # close\n",
    "    close = blind.text\n",
    "\n",
    "    return close"
   ]
  },
  {
   "cell_type": "code",
   "execution_count": 62,
   "id": "fc049d68-d76e-4f49-969b-7367d8b2064f",
   "metadata": {},
   "outputs": [
    {
     "name": "stdout",
     "output_type": "stream",
     "text": [
      "102,500\n"
     ]
    }
   ],
   "source": [
    "# SK_hynix\n",
    "candle_chart_data = get_candle_chart_data(\"000660\")\n",
    "print(candle_chart_data)"
   ]
  },
  {
   "cell_type": "markdown",
   "id": "ebbef203-60c4-4c40-8d9f-659e38dc8c87",
   "metadata": {},
   "source": [
    "* 09_get_candle_chart_data_high"
   ]
  },
  {
   "cell_type": "code",
   "execution_count": 73,
   "id": "8d291ade-e541-427a-8442-e14cf661e522",
   "metadata": {},
   "outputs": [
    {
     "name": "stdout",
     "output_type": "stream",
     "text": [
      "{'close': '102,500', 'high': '104,500'}\n"
     ]
    }
   ],
   "source": [
    "def get_candle_chart_data(company_code):\n",
    "    \n",
    "    bs_obj = get_bs_obj(company_code)\n",
    "    \n",
    "    td_first = bs_obj.find(\"td\", {\"class\":\"first\"})\n",
    "    blind = td_first.find(\"span\", {\"class\":\"blind\"})\n",
    "    \n",
    "    # close\n",
    "    close = blind.text\n",
    "    \n",
    "    # high\n",
    "    table = bs_obj.find(\"table\", {\"class\":\"no_info\"})\n",
    "    trs = table.findAll(\"tr\")\n",
    "    first_tr = trs[0]\n",
    "    first_tr_tds = first_tr.findAll(\"td\")\n",
    "    first_tr_tds_second_td = first_tr_tds[1]\n",
    "    high = first_tr_tds_second_td.find(\"span\", {\"class\":\"blind\"}).text\n",
    "\n",
    "    return {\"close\":close, \"high\":high}\n",
    "\n",
    "candle_chart_data = get_candle_chart_data(\"000660\")\n",
    "print(candle_chart_data)"
   ]
  },
  {
   "cell_type": "markdown",
   "id": "2fb52f3d-eb96-4268-850d-28426b3e88a0",
   "metadata": {},
   "source": [
    "* 10_get_candle_chart_data_open"
   ]
  },
  {
   "cell_type": "code",
   "execution_count": 76,
   "id": "fc1faad2-554e-4f6d-ab40-8db9cc134a2f",
   "metadata": {},
   "outputs": [
    {
     "name": "stdout",
     "output_type": "stream",
     "text": [
      "{'close': '102,500', 'high': '104,500', 'open': '104,000', 'low': '102,000'}\n"
     ]
    }
   ],
   "source": [
    "def get_candle_chart_data(company_code):\n",
    "    \n",
    "    bs_obj = get_bs_obj(company_code)\n",
    "    \n",
    "    td_first = bs_obj.find(\"td\", {\"class\":\"first\"})\n",
    "    blind = td_first.find(\"span\", {\"class\":\"blind\"})\n",
    "    \n",
    "    # close\n",
    "    close = blind.text\n",
    "    \n",
    "    table = bs_obj.find(\"table\", {\"class\":\"no_info\"})\n",
    "    trs = table.findAll(\"tr\")\n",
    "    \n",
    "    # high\n",
    "    first_tr = trs[0]\n",
    "    first_tr_tds = first_tr.findAll(\"td\")\n",
    "    first_tr_tds_second_td = first_tr_tds[1]\n",
    "    high = first_tr_tds_second_td.find(\"span\", {\"class\":\"blind\"}).text\n",
    "    \n",
    "    # open\n",
    "    second_tr = trs[1]\n",
    "    second_tr_td_first = second_tr.find(\"td\", {\"class\":\"first\"})\n",
    "    blind_open = second_tr_td_first.find(\"span\", {\"class\":\"blind\"})\n",
    "    open = blind_open.text\n",
    "    \n",
    "    # low\n",
    "    second_tr_tds = second_tr.findAll(\"td\") # list = [ , , ]\n",
    "    second_tr_tds_second_td = second_tr_tds[1]\n",
    "    blind_low = second_tr_tds_second_td.find(\"span\", {\"class\":\"blind\"})\n",
    "    low = blind_low.text\n",
    "    \n",
    "    return {\"close\":close, \"high\":high, \"open\":open, \"low\":low}\n",
    "\n",
    "candle_chart_data = get_candle_chart_data(\"000660\")\n",
    "print(candle_chart_data)"
   ]
  },
  {
   "cell_type": "markdown",
   "id": "48c63e36-7c5d-4efd-9883-c663e8d1c393",
   "metadata": {},
   "source": [
    "* 11_get_candle_chart_data_n"
   ]
  },
  {
   "cell_type": "code",
   "execution_count": 82,
   "id": "655a18ef-0b96-4f8e-9b1f-2c3271d4118e",
   "metadata": {},
   "outputs": [
    {
     "name": "stdout",
     "output_type": "stream",
     "text": [
      "{'close': '102,500', 'high': '104,500', 'open': '104,000', 'low': '102,000'}\n",
      "{'close': '424,500', 'high': '432,000', 'open': '425,000', 'low': '421,000'}\n",
      "{'close': '20,250', 'high': '20,750', 'open': '20,400', 'low': '19,550'}\n",
      "{'close': '5,310', 'high': '5,300', 'open': '5,290', 'low': '5,020'}\n"
     ]
    }
   ],
   "source": [
    "def get_candle_chart_data(company_code):\n",
    "    \n",
    "    bs_obj = get_bs_obj(company_code)\n",
    "    \n",
    "    td_first = bs_obj.find(\"td\", {\"class\":\"first\"})\n",
    "    blind = td_first.find(\"span\", {\"class\":\"blind\"})\n",
    "    \n",
    "    # close\n",
    "    close = blind.text\n",
    "    \n",
    "    table = bs_obj.find(\"table\", {\"class\":\"no_info\"})\n",
    "    trs = table.findAll(\"tr\")\n",
    "    \n",
    "    # high\n",
    "    first_tr = trs[0]\n",
    "    first_tr_tds = first_tr.findAll(\"td\")\n",
    "    first_tr_tds_second_td = first_tr_tds[1]\n",
    "    high = first_tr_tds_second_td.find(\"span\", {\"class\":\"blind\"}).text\n",
    "    \n",
    "    # open\n",
    "    second_tr = trs[1]\n",
    "    second_tr_td_first = second_tr.find(\"td\", {\"class\":\"first\"})\n",
    "    blind_open = second_tr_td_first.find(\"span\", {\"class\":\"blind\"})\n",
    "    open = blind_open.text\n",
    "    \n",
    "    # low\n",
    "    second_tr_tds = second_tr.findAll(\"td\") # list = [ , , ]\n",
    "    second_tr_tds_second_td = second_tr_tds[1]\n",
    "    blind_low = second_tr_tds_second_td.find(\"span\", {\"class\":\"blind\"})\n",
    "    low = blind_low.text\n",
    "    \n",
    "    return {\"close\":close, \"high\":high, \"open\":open, \"low\":low}\n",
    "\n",
    "# firms\n",
    "company_codes = [\"000660\", \"035420\", \"034220\", \"082640\"]\n",
    "for item in company_codes:\n",
    "    candle_chart_data = get_candle_chart_data(item)\n",
    "    print(candle_chart_data)"
   ]
  },
  {
   "cell_type": "markdown",
   "id": "62857faf",
   "metadata": {},
   "source": [
    "# **References**\n",
    "\n",
    "https://www.youtube.com/watch?v=4z8UkZbpHuc&list=PLAdQRRy4vtQRzdg7D9n1rkDp9DIeWpBQ9&index=24"
   ]
  }
 ],
 "metadata": {
  "kernelspec": {
   "display_name": "Python 3",
   "language": "python",
   "name": "python3"
  },
  "language_info": {
   "codemirror_mode": {
    "name": "ipython",
    "version": 3
   },
   "file_extension": ".py",
   "mimetype": "text/x-python",
   "name": "python",
   "nbconvert_exporter": "python",
   "pygments_lexer": "ipython3",
   "version": "3.8.8"
  }
 },
 "nbformat": 4,
 "nbformat_minor": 5
}
